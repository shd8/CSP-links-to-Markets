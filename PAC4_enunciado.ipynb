{
  "cells": [
    {
      "cell_type": "markdown",
      "metadata": {
        "id": "view-in-github",
        "colab_type": "text"
      },
      "source": [
        "<a href=\"https://colab.research.google.com/github/shd8/CSP-links-to-Markets/blob/main/PAC4_enunciado.ipynb\" target=\"_parent\"><img src=\"https://colab.research.google.com/assets/colab-badge.svg\" alt=\"Open In Colab\"/></a>"
      ]
    },
    {
      "cell_type": "markdown",
      "metadata": {
        "id": "vRH0r2QknwY8"
      },
      "source": [
        "## PREGUNTA 3"
      ]
    },
    {
      "cell_type": "code",
      "execution_count": 1,
      "metadata": {
        "id": "Rug90snenwY_"
      },
      "outputs": [],
      "source": [
        "import numpy as np\n",
        "import matplotlib.pyplot as plt\n",
        "\n",
        "def euclidean_distance(query, data):\n",
        "    euclidean_distance = np.sum(np.power(data-query,2),axis=1)\n",
        "    return euclidean_distance\n",
        "\n",
        "X = np.random.randn(100,2)\n",
        "n_clusters=20"
      ]
    },
    {
      "cell_type": "code",
      "execution_count": 119,
      "metadata": {
        "id": "hTS-Y3onnwZB"
      },
      "outputs": [],
      "source": [
        "def init_fct_dirichlet(n_clusters):\n",
        "  x = np.random.dirichlet(([1]*n_clusters))\n",
        "  return x\n",
        "\n",
        "def init_fct_uniform(n_clusters):\n",
        "  x = 1\n",
        "  return x\n",
        "\n",
        "def init_fct_onehot(n_clusters):\n",
        "  x = 1\n",
        "  return x\n",
        "\n",
        "def init_fct_exponential(n_clusters):\n",
        "  x = 1\n",
        "  return x\n"
      ]
    },
    {
      "cell_type": "code",
      "source": [
        "def fuzzy_cmeans(data, initialization_fct,n_clusters=15, n_iterations=100):\n",
        "    n_instances, n_features = data.shape\n",
        "    \n",
        "    clusters = np.zeros((n_clusters, n_features))\n",
        "    dist_inst_cluster = np.zeros((n_instances, n_clusters))\n",
        "    for i_instances in range(n_instances):\n",
        "        dist_inst_cluster[i_instances,:] = initialization_fct(n_clusters)\n",
        "\n",
        "    for i_clusters in range(n_clusters):\n",
        "            clusters[i_clusters,:] = np.average(data,weights=np.power(dist_inst_cluster[:,i_clusters],2),axis=0)\n",
        "\n",
        "    for i_iter in range(n_iterations):\n",
        "        for i_instances in range(n_instances):\n",
        "            dist_inst_cluster[i_instances,:] = euclidean_distance(data[i_instances,:], clusters)\n",
        "            dist_inst_cluster[i_instances,:] = 1/dist_inst_cluster[i_instances,:] \n",
        "            sum_weights = np.sum(dist_inst_cluster[i_instances,:])\n",
        "            dist_inst_cluster[i_instances,:] = dist_inst_cluster[i_instances,:]/sum_weights\n",
        "            \n",
        "        for i_clusters in range(n_clusters):\n",
        "            clusters[i_clusters,:] = np.average(data, weights=np.power(dist_inst_cluster[:,i_clusters],2),axis=0)    \n",
        "        \n",
        "    return clusters, dist_inst_cluster\n",
        "            "
      ],
      "metadata": {
        "id": "Gjs5pxBxqm9T"
      },
      "execution_count": 92,
      "outputs": []
    },
    {
      "cell_type": "code",
      "execution_count": 120,
      "metadata": {
        "id": "Dw4-twLPnwZC",
        "colab": {
          "base_uri": "https://localhost:8080/",
          "height": 334
        },
        "outputId": "268df5be-0a0a-4101-e54e-342cc4379b62"
      },
      "outputs": [
        {
          "output_type": "stream",
          "name": "stderr",
          "text": [
            "<ipython-input-92-bd0d1275c472>:15: RuntimeWarning: divide by zero encountered in true_divide\n",
            "  dist_inst_cluster[i_instances,:] = 1/dist_inst_cluster[i_instances,:]\n",
            "<ipython-input-92-bd0d1275c472>:17: RuntimeWarning: invalid value encountered in true_divide\n",
            "  dist_inst_cluster[i_instances,:] = dist_inst_cluster[i_instances,:]/sum_weights\n"
          ]
        },
        {
          "output_type": "display_data",
          "data": {
            "text/plain": [
              "<Figure size 432x288 with 1 Axes>"
            ],
            "image/png": "[encoded data removed]"
          },
          "metadata": {
            "needs_background": "light"
          }
        }
      ],
      "source": [
        "clusters_onehot, dist = fuzzy_cmeans(X, init_fct_onehot, n_clusters, n_iterations=10)\n",
        "clusters_dirichlet, dist = fuzzy_cmeans(X, init_fct_dirichlet, n_clusters, n_iterations=10)\n",
        "clusters_uniform, dist = fuzzy_cmeans(X, init_fct_uniform, n_clusters, n_iterations=10)\n",
        "clusters_exponential, dist = fuzzy_cmeans(X, init_fct_exponential, n_clusters, n_iterations=10)\n",
        "plt.scatter(X[:, 0], X[:, 1])\n",
        "plt.scatter(clusters_onehot[:,0],clusters_onehot[:,1],color='r')\n",
        "plt.scatter(clusters_dirichlet[:,0],clusters_dirichlet[:,1],color='g')\n",
        "plt.scatter(clusters_uniform[:,0],clusters_uniform[:,1],color='c')\n",
        "plt.scatter(clusters_exponential[:,0],clusters_exponential[:,1],color='y')\n",
        "plt.show()"
      ]
    },
    {
      "cell_type": "markdown",
      "metadata": {
        "id": "TPye-4-RnwZD"
      },
      "source": [
        "## PREGUNTA 4"
      ]
    },
    {
      "cell_type": "code",
      "execution_count": 3,
      "metadata": {
        "id": "7Bs8eDmYnwZD",
        "colab": {
          "base_uri": "https://localhost:8080/"
        },
        "outputId": "e14842f9-a3a7-4a56-d7a4-b7b545c71f3e"
      },
      "outputs": [
        {
          "output_type": "stream",
          "name": "stdout",
          "text": [
            "(15, 2)\n",
            "(15,)\n"
          ]
        }
      ],
      "source": [
        "import numpy as np\n",
        "\n",
        "def heaviside(x):\n",
        "  x[x<=0]=0                                                                                                                                                                                                                                  \n",
        "  x[x>0]=1\n",
        "  return x\n",
        "\n",
        "X = np.array([[2,-1],[2,-2],[2,2],\n",
        "              [2,1],[2,-3],[-1,-5],\n",
        "              [-1,4],[-1,-2],[-1,-2],\n",
        "              [4,-4],[7,4],[-3,3],\n",
        "              [-1,9],[-3,1],[1,0]])\n",
        "Y=np.array([1,1,1,1,1,0,0,0,0,1,1,0,0,0,1])\n",
        "\n",
        "x = X[:,0]\n",
        "y = Y[:,1]\n",
        "print(X.shape)\n",
        "print(Y.shape)\n",
        "\n"
      ]
    },
    {
      "cell_type": "code",
      "execution_count": null,
      "metadata": {
        "id": "9KhW_3pInwZE"
      },
      "outputs": [],
      "source": [
        "#neural network code to implement\n",
        "h0=\n",
        "h1=\n",
        "h2=\n",
        "h3=\n",
        "z= \n",
        "out = \n",
        "\n",
        "print(out)"
      ]
    },
    {
      "cell_type": "code",
      "source": [
        "#implement accuracy, precision and recall\n",
        "TP = \n",
        "TN = \n",
        "FP = \n",
        "FN = \n",
        "\n",
        "print(TP)\n",
        "print(TN)\n",
        "print(FP)\n",
        "print(FN)"
      ],
      "metadata": {
        "id": "24HXC-ALBqCt"
      },
      "execution_count": null,
      "outputs": []
    },
    {
      "cell_type": "code",
      "source": [
        "accuracy  = \n",
        "precision = \n",
        "recall = \n",
        "\n",
        "print(accuracy)\n",
        "print(precision)\n",
        "print(recall)"
      ],
      "metadata": {
        "id": "8mjWDx8mCuWT"
      },
      "execution_count": null,
      "outputs": []
    }
  ],
  "metadata": {
    "kernelspec": {
      "display_name": "Python 3",
      "language": "python",
      "name": "python3"
    },
    "language_info": {
      "codemirror_mode": {
        "name": "ipython",
        "version": 3
      },
      "file_extension": ".py",
      "mimetype": "text/x-python",
      "name": "python",
      "nbconvert_exporter": "python",
      "pygments_lexer": "ipython3",
      "version": "3.6.10"
    },
    "colab": {
      "provenance": [],
      "include_colab_link": true
    }
  },
  "nbformat": 4,
  "nbformat_minor": 0
}